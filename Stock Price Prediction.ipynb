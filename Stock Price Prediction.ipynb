{
 "cells": [
  {
   "cell_type": "raw",
   "id": "c40150bd",
   "metadata": {
    "_cell_guid": "b1076dfc-b9ad-4769-8c92-a6c4dae69d19",
    "_uuid": "8f2839f25d086af736a60e9eeb907d3b93b6e0e5",
    "papermill": {
     "duration": 0.014657,
     "end_time": "2022-07-01T10:37:52.991515",
     "exception": false,
     "start_time": "2022-07-01T10:37:52.976858",
     "status": "completed"
    },
    "tags": []
   },
   "source": [
    "# This Python 3 environment comes with many helpful analytics libraries installed\n",
    "# It is defined by the kaggle/python Docker image: https://github.com/kaggle/docker-python\n",
    "# For example, here's several helpful packages to load\n",
    "\n",
    "import numpy as np # linear algebra\n",
    "import pandas as pd # data processing, CSV file I/O (e.g. pd.read_csv)\n",
    "\n",
    "# Input data files are available in the read-only \"../input/\" directory\n",
    "# For example, running this (by clicking run or pressing Shift+Enter) will list all files under the input directory\n",
    "\n",
    "import os\n",
    "for dirname, _, filenames in os.walk('/kaggle/input'):\n",
    "    for filename in filenames:\n",
    "        print(os.path.join(dirname, filename))\n",
    "\n",
    "# You can write up to 20GB to the current directory (/kaggle/working/) that gets preserved as output when you create a version using \"Save & Run All\" \n",
    "# You can also write temporary files to /kaggle/temp/, but they won't be saved outside of the current session"
   ]
  },
  {
   "cell_type": "code",
   "execution_count": 1,
   "id": "fb4f538c",
   "metadata": {
    "execution": {
     "iopub.execute_input": "2022-07-01T10:37:53.029558Z",
     "iopub.status.busy": "2022-07-01T10:37:53.027410Z",
     "iopub.status.idle": "2022-07-01T10:37:59.295493Z",
     "shell.execute_reply": "2022-07-01T10:37:59.294754Z",
     "shell.execute_reply.started": "2022-07-01T09:58:56.854674Z"
    },
    "papermill": {
     "duration": 6.287495,
     "end_time": "2022-07-01T10:37:59.295685",
     "exception": false,
     "start_time": "2022-07-01T10:37:53.008190",
     "status": "completed"
    },
    "tags": []
   },
   "outputs": [],
   "source": [
    "import numpy as np\n",
    "import pandas as pd\n",
    "import matplotlib.pyplot as plt\n",
    "import tensorflow as tf\n",
    "import seaborn as sns\n",
    "from sklearn.preprocessing import MinMaxScaler\n",
    "keras = tf.keras"
   ]
  },
  {
   "cell_type": "code",
   "execution_count": 2,
   "id": "0669cb7f",
   "metadata": {
    "execution": {
     "iopub.execute_input": "2022-07-01T10:37:59.332465Z",
     "iopub.status.busy": "2022-07-01T10:37:59.331401Z",
     "iopub.status.idle": "2022-07-01T10:37:59.334457Z",
     "shell.execute_reply": "2022-07-01T10:37:59.333952Z",
     "shell.execute_reply.started": "2022-07-01T09:59:02.155697Z"
    },
    "papermill": {
     "duration": 0.024927,
     "end_time": "2022-07-01T10:37:59.334585",
     "exception": false,
     "start_time": "2022-07-01T10:37:59.309658",
     "status": "completed"
    },
    "tags": []
   },
   "outputs": [],
   "source": [
    "def plot_series(time, series, format=\"-\", start=0, end=None, label=None):\n",
    "    plt.plot(time[start:end], series[start:end], format, label=label)\n",
    "    plt.xlabel(\"Time\")\n",
    "    plt.ylabel(\"Value\")\n",
    "    if label:\n",
    "        plt.legend(fontsize=14)\n",
    "    plt.grid(True)\n",
    "    \n",
    "\n",
    "def sequential_window_dataset(series, window_size):\n",
    "    ds = tf.data.Dataset.from_tensor_slices(series)\n",
    "    ds = ds.window(window_size + 1, shift=window_size, drop_remainder=True)\n",
    "    ds = ds.flat_map(lambda window: window.batch(window_size + 1))\n",
    "    ds = ds.map(lambda window: (window[:-1], window[1:]))\n",
    "    return ds.batch(1).prefetch(1)"
   ]
  },
  {
   "cell_type": "code",
   "execution_count": 3,
   "id": "552a2063",
   "metadata": {
    "execution": {
     "iopub.execute_input": "2022-07-01T10:37:59.368846Z",
     "iopub.status.busy": "2022-07-01T10:37:59.368159Z",
     "iopub.status.idle": "2022-07-01T10:37:59.422472Z",
     "shell.execute_reply": "2022-07-01T10:37:59.421580Z",
     "shell.execute_reply.started": "2022-07-01T09:59:02.165073Z"
    },
    "papermill": {
     "duration": 0.074768,
     "end_time": "2022-07-01T10:37:59.422654",
     "exception": false,
     "start_time": "2022-07-01T10:37:59.347886",
     "status": "completed"
    },
    "tags": []
   },
   "outputs": [],
   "source": [
    "\n",
    "spy = pd.read_csv('../input/s-p-500-dataset/spy.csv')\n",
    "\n",
    "spy['Date'] = pd.to_datetime(spy['Date'])\n",
    "\n",
    "series = spy['Close']\n",
    "\n",
    "\n",
    "train_split_date = '2014-12-31'\n",
    "train_split_index = np.where(spy.Date == train_split_date)[0][0]\n",
    "x_train = spy.loc[spy['Date'] <= train_split_date]['Close']\n",
    "\n",
    "\n",
    "test_split_date = '2019-01-02'\n",
    "test_split_index = np.where(spy.Date == test_split_date)[0][0]\n",
    "x_test = spy.loc[spy['Date'] >= test_split_date]['Close']\n",
    "\n",
    "\n",
    "valid_split_index = (train_split_index.max(),test_split_index.min())\n",
    "x_valid = spy.loc[(spy['Date'] < test_split_date) & (spy['Date'] > train_split_date)]['Close']"
   ]
  },
  {
   "cell_type": "code",
   "execution_count": 4,
   "id": "6e4e1f5e",
   "metadata": {
    "execution": {
     "iopub.execute_input": "2022-07-01T10:37:59.461075Z",
     "iopub.status.busy": "2022-07-01T10:37:59.459920Z",
     "iopub.status.idle": "2022-07-01T10:37:59.782958Z",
     "shell.execute_reply": "2022-07-01T10:37:59.782284Z",
     "shell.execute_reply.started": "2022-07-01T09:59:02.225106Z"
    },
    "papermill": {
     "duration": 0.346866,
     "end_time": "2022-07-01T10:37:59.783107",
     "exception": false,
     "start_time": "2022-07-01T10:37:59.436241",
     "status": "completed"
    },
    "tags": []
   },
   "outputs": [
    {
     "name": "stdout",
     "output_type": "stream",
     "text": [
      "5521 5522 6527 6528 7028\n"
     ]
    },
    {
     "data": {
      "image/png": "[encoded data removed]",
      "text/plain": [
       "<Figure size 432x288 with 1 Axes>"
      ]
     },
     "metadata": {
      "needs_background": "light"
     },
     "output_type": "display_data"
    }
   ],
   "source": [
    "plt.plot(x_train, label = 'Train')\n",
    "plt.plot(x_valid, label = 'Validate')\n",
    "plt.plot(x_test, label = 'Test')\n",
    "plt.legend()\n",
    "print(x_train.index.max(),x_valid.index.min(),x_valid.index.max(),x_test.index.min(),x_test.index.max())"
   ]
  },
  {
   "cell_type": "code",
   "execution_count": 5,
   "id": "ea162984",
   "metadata": {
    "execution": {
     "iopub.execute_input": "2022-07-01T10:37:59.826662Z",
     "iopub.status.busy": "2022-07-01T10:37:59.824369Z",
     "iopub.status.idle": "2022-07-01T10:37:59.827481Z",
     "shell.execute_reply": "2022-07-01T10:37:59.828114Z",
     "shell.execute_reply.started": "2022-07-01T09:59:02.494550Z"
    },
    "papermill": {
     "duration": 0.029128,
     "end_time": "2022-07-01T10:37:59.828294",
     "exception": false,
     "start_time": "2022-07-01T10:37:59.799166",
     "status": "completed"
    },
    "tags": []
   },
   "outputs": [],
   "source": [
    "x_train_values = x_train.values.reshape(-1, 1)\n",
    "x_valid_values = x_valid.values.reshape(-1, 1)\n",
    "x_test_values = x_test.values.reshape(-1, 1)\n",
    "\n",
    "\n",
    "x_train_scaler = MinMaxScaler(feature_range=(0, 1))\n",
    "\n",
    "\n",
    "normalized_x_train = x_train_scaler.fit_transform(x_train_values)\n",
    "\n",
    "\n",
    "normalized_x_valid = x_train_scaler.transform(x_valid_values)\n",
    "\n",
    "\n",
    "normalized_x_test = x_train_scaler.transform(x_test_values)\n",
    "\n",
    "\n",
    "spy_normalized_to_traindata = x_train_scaler.transform(series.values.reshape(-1, 1))"
   ]
  },
  {
   "cell_type": "code",
   "execution_count": 6,
   "id": "911c1ca8",
   "metadata": {
    "execution": {
     "iopub.execute_input": "2022-07-01T10:37:59.865440Z",
     "iopub.status.busy": "2022-07-01T10:37:59.864506Z",
     "iopub.status.idle": "2022-07-01T10:38:00.910146Z",
     "shell.execute_reply": "2022-07-01T10:38:00.909502Z",
     "shell.execute_reply.started": "2022-07-01T09:59:02.504148Z"
    },
    "papermill": {
     "duration": 1.066054,
     "end_time": "2022-07-01T10:38:00.910325",
     "exception": false,
     "start_time": "2022-07-01T10:37:59.844271",
     "status": "completed"
    },
    "tags": []
   },
   "outputs": [],
   "source": [
    "class ResetStatesCallback(keras.callbacks.Callback):\n",
    "    def on_epoch_begin(self, epoch, logs):\n",
    "        self.model.reset_states()"
   ]
  },
  {
   "cell_type": "code",
   "execution_count": 7,
   "id": "1fcf2840",
   "metadata": {
    "execution": {
     "iopub.execute_input": "2022-07-01T10:38:00.951439Z",
     "iopub.status.busy": "2022-07-01T10:38:00.950623Z",
     "iopub.status.idle": "2022-07-01T11:01:37.308717Z",
     "shell.execute_reply": "2022-07-01T11:01:37.309316Z",
     "shell.execute_reply.started": "2022-07-01T09:59:03.601146Z"
    },
    "papermill": {
     "duration": 1416.383398,
     "end_time": "2022-07-01T11:01:37.309525",
     "exception": false,
     "start_time": "2022-07-01T10:38:00.926127",
     "status": "completed"
    },
    "tags": []
   },
   "outputs": [
    {
     "name": "stderr",
     "output_type": "stream",
     "text": [
      "2022-07-01 10:38:01.048152: I tensorflow/stream_executor/cuda/cuda_gpu_executor.cc:937] successful NUMA node read from SysFS had negative value (-1), but there must be at least one NUMA node, so returning NUMA node zero\n",
      "2022-07-01 10:38:01.168361: I tensorflow/stream_executor/cuda/cuda_gpu_executor.cc:937] successful NUMA node read from SysFS had negative value (-1), but there must be at least one NUMA node, so returning NUMA node zero\n",
      "2022-07-01 10:38:01.169480: I tensorflow/stream_executor/cuda/cuda_gpu_executor.cc:937] successful NUMA node read from SysFS had negative value (-1), but there must be at least one NUMA node, so returning NUMA node zero\n",
      "2022-07-01 10:38:01.170935: I tensorflow/core/platform/cpu_feature_guard.cc:142] This TensorFlow binary is optimized with oneAPI Deep Neural Network Library (oneDNN) to use the following CPU instructions in performance-critical operations:  AVX2 FMA\n",
      "To enable them in other operations, rebuild TensorFlow with the appropriate compiler flags.\n",
      "2022-07-01 10:38:01.172329: I tensorflow/stream_executor/cuda/cuda_gpu_executor.cc:937] successful NUMA node read from SysFS had negative value (-1), but there must be at least one NUMA node, so returning NUMA node zero\n",
      "2022-07-01 10:38:01.173389: I tensorflow/stream_executor/cuda/cuda_gpu_executor.cc:937] successful NUMA node read from SysFS had negative value (-1), but there must be at least one NUMA node, so returning NUMA node zero\n",
      "2022-07-01 10:38:01.174465: I tensorflow/stream_executor/cuda/cuda_gpu_executor.cc:937] successful NUMA node read from SysFS had negative value (-1), but there must be at least one NUMA node, so returning NUMA node zero\n",
      "2022-07-01 10:38:04.012449: I tensorflow/stream_executor/cuda/cuda_gpu_executor.cc:937] successful NUMA node read from SysFS had negative value (-1), but there must be at least one NUMA node, so returning NUMA node zero\n",
      "2022-07-01 10:38:04.013560: I tensorflow/stream_executor/cuda/cuda_gpu_executor.cc:937] successful NUMA node read from SysFS had negative value (-1), but there must be at least one NUMA node, so returning NUMA node zero\n",
      "2022-07-01 10:38:04.014506: I tensorflow/stream_executor/cuda/cuda_gpu_executor.cc:937] successful NUMA node read from SysFS had negative value (-1), but there must be at least one NUMA node, so returning NUMA node zero\n",
      "2022-07-01 10:38:04.015395: I tensorflow/core/common_runtime/gpu/gpu_device.cc:1510] Created device /job:localhost/replica:0/task:0/device:GPU:0 with 15403 MB memory:  -> device: 0, name: Tesla P100-PCIE-16GB, pci bus id: 0000:00:04.0, compute capability: 6.0\n",
      "/opt/conda/lib/python3.7/site-packages/keras/optimizer_v2/optimizer_v2.py:356: UserWarning: The `lr` argument is deprecated, use `learning_rate` instead.\n",
      "  \"The `lr` argument is deprecated, use `learning_rate` instead.\")\n",
      "2022-07-01 10:38:05.165185: I tensorflow/compiler/mlir/mlir_graph_optimization_pass.cc:185] None of the MLIR Optimization Passes are enabled (registered 2)\n"
     ]
    },
    {
     "name": "stdout",
     "output_type": "stream",
     "text": [
      "Epoch 1/500\n"
     ]
    },
    {
     "name": "stderr",
     "output_type": "stream",
     "text": [
      "2022-07-01 10:38:09.457370: I tensorflow/stream_executor/cuda/cuda_dnn.cc:369] Loaded cuDNN version 8005\n"
     ]
    },
    {
     "name": "stdout",
     "output_type": "stream",
     "text": [
      "184/184 [==============================] - 9s 16ms/step - loss: 2.7607e-04 - mae: 0.0178 - val_loss: 0.0014 - val_mae: 0.0419\n"
     ]
    },
    {
     "name": "stderr",
     "output_type": "stream",
     "text": [
      "2022-07-01 10:38:18.272807: W tensorflow/python/util/util.cc:348] Sets are not currently considered sequences, but this may change in the future, so consider avoiding using them.\n"
     ]
    },
    {
     "name": "stdout",
     "output_type": "stream",
     "text": [
      "Epoch 2/500\n",
      "184/184 [==============================] - 2s 12ms/step - loss: 3.7433e-04 - mae: 0.0192 - val_loss: 0.0013 - val_mae: 0.0383\n",
      "Epoch 3/500\n",
      "184/184 [==============================] - 2s 11ms/step - loss: 1.9934e-04 - mae: 0.0150 - val_loss: 0.0013 - val_mae: 0.0392\n",
      "Epoch 4/500\n",
      "184/184 [==============================] - 2s 12ms/step - loss: 1.7524e-04 - mae: 0.0139 - val_loss: 0.0014 - val_mae: 0.0405\n",
      "Epoch 5/500\n",
      "184/184 [==============================] - 2s 11ms/step - loss: 1.6423e-04 - mae: 0.0134 - val_loss: 0.0015 - val_mae: 0.0417\n",
      "Epoch 6/500\n",
      "184/184 [==============================] - 2s 10ms/step - loss: 1.5508e-04 - mae: 0.0130 - val_loss: 0.0016 - val_mae: 0.0432\n",
      "Epoch 7/500\n",
      "184/184 [==============================] - 2s 11ms/step - loss: 1.4680e-04 - mae: 0.0126 - val_loss: 0.0018 - val_mae: 0.0458\n",
      "Epoch 8/500\n",
      "184/184 [==============================] - 2s 12ms/step - loss: 1.3921e-04 - mae: 0.0123 - val_loss: 0.0021 - val_mae: 0.0505\n",
      "Epoch 9/500\n",
      "184/184 [==============================] - 2s 12ms/step - loss: 1.3224e-04 - mae: 0.0119 - val_loss: 0.0027 - val_mae: 0.0575\n",
      "Epoch 10/500\n",
      "184/184 [==============================] - 2s 10ms/step - loss: 1.2566e-04 - mae: 0.0116 - val_loss: 0.0031 - val_mae: 0.0624\n",
      "Epoch 11/500\n",
      "184/184 [==============================] - 2s 10ms/step - loss: 1.1962e-04 - mae: 0.0113 - val_loss: 0.0024 - val_mae: 0.0518\n",
      "Epoch 12/500\n",
      "184/184 [==============================] - 2s 10ms/step - loss: 1.1816e-04 - mae: 0.0113 - val_loss: 0.0011 - val_mae: 0.0382\n",
      "Epoch 13/500\n",
      "184/184 [==============================] - 2s 11ms/step - loss: 1.2067e-04 - mae: 0.0114 - val_loss: 0.0033 - val_mae: 0.0653\n",
      "Epoch 14/500\n",
      "184/184 [==============================] - 2s 13ms/step - loss: 1.0912e-04 - mae: 0.0108 - val_loss: 0.0011 - val_mae: 0.0390\n",
      "Epoch 15/500\n",
      "184/184 [==============================] - 2s 12ms/step - loss: 1.1561e-04 - mae: 0.0112 - val_loss: 0.0030 - val_mae: 0.0623\n",
      "Epoch 16/500\n",
      "184/184 [==============================] - 2s 10ms/step - loss: 1.0407e-04 - mae: 0.0106 - val_loss: 0.0011 - val_mae: 0.0386\n",
      "Epoch 17/500\n",
      "184/184 [==============================] - 2s 10ms/step - loss: 1.0897e-04 - mae: 0.0108 - val_loss: 0.0023 - val_mae: 0.0512\n",
      "Epoch 18/500\n",
      "184/184 [==============================] - 2s 10ms/step - loss: 1.0148e-04 - mae: 0.0105 - val_loss: 0.0010 - val_mae: 0.0377\n",
      "Epoch 19/500\n",
      "184/184 [==============================] - 2s 12ms/step - loss: 1.0643e-04 - mae: 0.0106 - val_loss: 0.0023 - val_mae: 0.0528\n",
      "Epoch 20/500\n",
      "184/184 [==============================] - 2s 12ms/step - loss: 9.7516e-05 - mae: 0.0103 - val_loss: 0.0011 - val_mae: 0.0374\n",
      "Epoch 21/500\n",
      "184/184 [==============================] - 3s 15ms/step - loss: 1.0040e-04 - mae: 0.0103 - val_loss: 0.0015 - val_mae: 0.0406\n",
      "Epoch 22/500\n",
      "184/184 [==============================] - 2s 11ms/step - loss: 9.6202e-05 - mae: 0.0102 - val_loss: 9.5939e-04 - val_mae: 0.0359\n",
      "Epoch 23/500\n",
      "184/184 [==============================] - 2s 11ms/step - loss: 9.8786e-05 - mae: 0.0102 - val_loss: 0.0014 - val_mae: 0.0393\n",
      "Epoch 24/500\n",
      "184/184 [==============================] - 2s 10ms/step - loss: 9.3938e-05 - mae: 0.0101 - val_loss: 9.2401e-04 - val_mae: 0.0353\n",
      "Epoch 25/500\n",
      "184/184 [==============================] - 2s 12ms/step - loss: 9.6135e-05 - mae: 0.0101 - val_loss: 0.0012 - val_mae: 0.0363\n",
      "Epoch 26/500\n",
      "184/184 [==============================] - 2s 10ms/step - loss: 9.2171e-05 - mae: 0.0100 - val_loss: 8.7671e-04 - val_mae: 0.0343\n",
      "Epoch 27/500\n",
      "184/184 [==============================] - 2s 11ms/step - loss: 9.3796e-05 - mae: 0.0100 - val_loss: 0.0010 - val_mae: 0.0339\n",
      "Epoch 28/500\n",
      "184/184 [==============================] - 2s 14ms/step - loss: 9.0670e-05 - mae: 0.0099 - val_loss: 8.2686e-04 - val_mae: 0.0333\n",
      "Epoch 29/500\n",
      "184/184 [==============================] - 2s 12ms/step - loss: 9.1674e-05 - mae: 0.0099 - val_loss: 8.9630e-04 - val_mae: 0.0322\n",
      "Epoch 30/500\n",
      "184/184 [==============================] - 2s 11ms/step - loss: 8.9231e-05 - mae: 0.0098 - val_loss: 7.7746e-04 - val_mae: 0.0321\n",
      "Epoch 31/500\n",
      "184/184 [==============================] - 2s 10ms/step - loss: 8.9651e-05 - mae: 0.0098 - val_loss: 7.9671e-04 - val_mae: 0.0310\n",
      "Epoch 32/500\n",
      "184/184 [==============================] - 2s 10ms/step - loss: 8.7755e-05 - mae: 0.0097 - val_loss: 7.2982e-04 - val_mae: 0.0310\n",
      "Epoch 33/500\n",
      "184/184 [==============================] - 3s 16ms/step - loss: 8.7678e-05 - mae: 0.0097 - val_loss: 7.2477e-04 - val_mae: 0.0300\n",
      "Epoch 34/500\n",
      "184/184 [==============================] - 2s 10ms/step - loss: 8.6183e-05 - mae: 0.0096 - val_loss: 6.8532e-04 - val_mae: 0.0298\n",
      "Epoch 35/500\n",
      "184/184 [==============================] - 2s 12ms/step - loss: 8.5732e-05 - mae: 0.0096 - val_loss: 6.7087e-04 - val_mae: 0.0291\n",
      "Epoch 36/500\n",
      "184/184 [==============================] - 2s 12ms/step - loss: 8.4507e-05 - mae: 0.0095 - val_loss: 6.4481e-04 - val_mae: 0.0288\n",
      "Epoch 37/500\n",
      "184/184 [==============================] - 2s 13ms/step - loss: 8.3818e-05 - mae: 0.0095 - val_loss: 6.2807e-04 - val_mae: 0.0282\n",
      "Epoch 38/500\n",
      "184/184 [==============================] - 2s 10ms/step - loss: 8.2768e-05 - mae: 0.0094 - val_loss: 6.0843e-04 - val_mae: 0.0279\n",
      "Epoch 39/500\n",
      "184/184 [==============================] - 2s 13ms/step - loss: 8.1964e-05 - mae: 0.0094 - val_loss: 5.9228e-04 - val_mae: 0.0274\n",
      "Epoch 40/500\n",
      "184/184 [==============================] - 2s 12ms/step - loss: 8.1020e-05 - mae: 0.0093 - val_loss: 5.7602e-04 - val_mae: 0.0271\n",
      "Epoch 41/500\n",
      "184/184 [==============================] - 2s 14ms/step - loss: 8.0181e-05 - mae: 0.0092 - val_loss: 5.6129e-04 - val_mae: 0.0267\n",
      "Epoch 42/500\n",
      "184/184 [==============================] - 2s 11ms/step - loss: 7.9301e-05 - mae: 0.0092 - val_loss: 5.4714e-04 - val_mae: 0.0263\n",
      "Epoch 43/500\n",
      "184/184 [==============================] - 2s 13ms/step - loss: 7.8464e-05 - mae: 0.0091 - val_loss: 5.3386e-04 - val_mae: 0.0260\n",
      "Epoch 44/500\n",
      "184/184 [==============================] - 2s 10ms/step - loss: 7.7620e-05 - mae: 0.0091 - val_loss: 5.2119e-04 - val_mae: 0.0257\n",
      "Epoch 45/500\n",
      "184/184 [==============================] - 2s 13ms/step - loss: 7.6796e-05 - mae: 0.0090 - val_loss: 5.0913e-04 - val_mae: 0.0253\n",
      "Epoch 46/500\n",
      "184/184 [==============================] - 2s 11ms/step - loss: 7.5974e-05 - mae: 0.0090 - val_loss: 4.9758e-04 - val_mae: 0.0251\n",
      "Epoch 47/500\n",
      "184/184 [==============================] - 3s 15ms/step - loss: 7.5163e-05 - mae: 0.0089 - val_loss: 4.8647e-04 - val_mae: 0.0248\n",
      "Epoch 48/500\n",
      "184/184 [==============================] - 2s 11ms/step - loss: 7.4358e-05 - mae: 0.0089 - val_loss: 4.7571e-04 - val_mae: 0.0245\n",
      "Epoch 49/500\n",
      "184/184 [==============================] - 2s 13ms/step - loss: 7.3562e-05 - mae: 0.0088 - val_loss: 4.6526e-04 - val_mae: 0.0242\n",
      "Epoch 50/500\n",
      "184/184 [==============================] - 2s 10ms/step - loss: 7.2773e-05 - mae: 0.0088 - val_loss: 4.5506e-04 - val_mae: 0.0239\n",
      "Epoch 51/500\n",
      "184/184 [==============================] - 2s 13ms/step - loss: 7.1993e-05 - mae: 0.0087 - val_loss: 4.4505e-04 - val_mae: 0.0237\n",
      "Epoch 52/500\n",
      "184/184 [==============================] - 2s 10ms/step - loss: 7.1222e-05 - mae: 0.0087 - val_loss: 4.3518e-04 - val_mae: 0.0234\n",
      "Epoch 53/500\n",
      "184/184 [==============================] - 2s 13ms/step - loss: 7.0461e-05 - mae: 0.0086 - val_loss: 4.2543e-04 - val_mae: 0.0232\n",
      "Epoch 54/500\n",
      "184/184 [==============================] - 3s 16ms/step - loss: 6.9710e-05 - mae: 0.0086 - val_loss: 4.1577e-04 - val_mae: 0.0229\n",
      "Epoch 55/500\n",
      "184/184 [==============================] - 3s 15ms/step - loss: 6.8969e-05 - mae: 0.0085 - val_loss: 4.0617e-04 - val_mae: 0.0226\n",
      "Epoch 56/500\n",
      "184/184 [==============================] - 2s 10ms/step - loss: 6.8239e-05 - mae: 0.0085 - val_loss: 3.9662e-04 - val_mae: 0.0224\n",
      "Epoch 57/500\n",
      "184/184 [==============================] - 3s 14ms/step - loss: 6.7519e-05 - mae: 0.0084 - val_loss: 3.8713e-04 - val_mae: 0.0221\n",
      "Epoch 58/500\n",
      "184/184 [==============================] - 2s 11ms/step - loss: 6.6809e-05 - mae: 0.0084 - val_loss: 3.7771e-04 - val_mae: 0.0219\n",
      "Epoch 59/500\n",
      "184/184 [==============================] - 3s 14ms/step - loss: 6.6108e-05 - mae: 0.0083 - val_loss: 3.6836e-04 - val_mae: 0.0216\n",
      "Epoch 60/500\n",
      "184/184 [==============================] - 2s 10ms/step - loss: 6.5418e-05 - mae: 0.0083 - val_loss: 3.5906e-04 - val_mae: 0.0214\n",
      "Epoch 61/500\n",
      "184/184 [==============================] - 3s 15ms/step - loss: 6.4738e-05 - mae: 0.0083 - val_loss: 3.4980e-04 - val_mae: 0.0211\n",
      "Epoch 62/500\n",
      "184/184 [==============================] - 2s 11ms/step - loss: 6.4067e-05 - mae: 0.0082 - val_loss: 3.4055e-04 - val_mae: 0.0208\n",
      "Epoch 63/500\n",
      "184/184 [==============================] - 3s 16ms/step - loss: 6.3406e-05 - mae: 0.0082 - val_loss: 3.3127e-04 - val_mae: 0.0206\n",
      "Epoch 64/500\n",
      "184/184 [==============================] - 2s 11ms/step - loss: 6.2754e-05 - mae: 0.0081 - val_loss: 3.2195e-04 - val_mae: 0.0203\n",
      "Epoch 65/500\n",
      "184/184 [==============================] - 3s 14ms/step - loss: 6.2112e-05 - mae: 0.0081 - val_loss: 3.1256e-04 - val_mae: 0.0200\n",
      "Epoch 66/500\n",
      "184/184 [==============================] - 2s 11ms/step - loss: 6.1479e-05 - mae: 0.0080 - val_loss: 3.0310e-04 - val_mae: 0.0197\n",
      "Epoch 67/500\n",
      "184/184 [==============================] - 3s 15ms/step - loss: 6.0855e-05 - mae: 0.0080 - val_loss: 2.9357e-04 - val_mae: 0.0194\n",
      "Epoch 68/500\n",
      "184/184 [==============================] - 2s 11ms/step - loss: 6.0242e-05 - mae: 0.0079 - val_loss: 2.8398e-04 - val_mae: 0.0191\n",
      "Epoch 69/500\n",
      "184/184 [==============================] - 3s 18ms/step - loss: 5.9640e-05 - mae: 0.0079 - val_loss: 2.7435e-04 - val_mae: 0.0188\n",
      "Epoch 70/500\n",
      "184/184 [==============================] - 2s 10ms/step - loss: 5.9050e-05 - mae: 0.0078 - val_loss: 2.6473e-04 - val_mae: 0.0185\n",
      "Epoch 71/500\n",
      "184/184 [==============================] - 3s 17ms/step - loss: 5.8471e-05 - mae: 0.0078 - val_loss: 2.5520e-04 - val_mae: 0.0182\n",
      "Epoch 72/500\n",
      "184/184 [==============================] - 2s 10ms/step - loss: 5.7902e-05 - mae: 0.0077 - val_loss: 2.4587e-04 - val_mae: 0.0179\n",
      "Epoch 73/500\n",
      "184/184 [==============================] - 2s 11ms/step - loss: 5.7342e-05 - mae: 0.0077 - val_loss: 2.3688e-04 - val_mae: 0.0175\n",
      "Epoch 74/500\n",
      "184/184 [==============================] - 3s 17ms/step - loss: 5.6790e-05 - mae: 0.0076 - val_loss: 2.2837e-04 - val_mae: 0.0172\n",
      "Epoch 75/500\n",
      "184/184 [==============================] - 2s 11ms/step - loss: 5.6242e-05 - mae: 0.0076 - val_loss: 2.2054e-04 - val_mae: 0.0169\n",
      "Epoch 76/500\n",
      "184/184 [==============================] - 3s 15ms/step - loss: 5.5701e-05 - mae: 0.0076 - val_loss: 2.1355e-04 - val_mae: 0.0167\n",
      "Epoch 77/500\n",
      "184/184 [==============================] - 2s 11ms/step - loss: 5.5164e-05 - mae: 0.0075 - val_loss: 2.0763e-04 - val_mae: 0.0164\n",
      "Epoch 78/500\n",
      "184/184 [==============================] - 3s 15ms/step - loss: 5.4633e-05 - mae: 0.0075 - val_loss: 2.0299e-04 - val_mae: 0.0162\n",
      "Epoch 79/500\n",
      "184/184 [==============================] - 2s 10ms/step - loss: 5.4111e-05 - mae: 0.0074 - val_loss: 1.9987e-04 - val_mae: 0.0161\n",
      "Epoch 80/500\n",
      "184/184 [==============================] - 3s 17ms/step - loss: 5.3598e-05 - mae: 0.0074 - val_loss: 1.9847e-04 - val_mae: 0.0161\n",
      "Epoch 81/500\n",
      "184/184 [==============================] - 2s 12ms/step - loss: 5.3094e-05 - mae: 0.0073 - val_loss: 1.9910e-04 - val_mae: 0.0161\n",
      "Epoch 82/500\n",
      "184/184 [==============================] - 2s 13ms/step - loss: 5.2602e-05 - mae: 0.0073 - val_loss: 2.0194e-04 - val_mae: 0.0162\n",
      "Epoch 83/500\n",
      "184/184 [==============================] - 2s 11ms/step - loss: 5.2120e-05 - mae: 0.0072 - val_loss: 2.0738e-04 - val_mae: 0.0165\n",
      "Epoch 84/500\n",
      "184/184 [==============================] - 2s 11ms/step - loss: 5.1653e-05 - mae: 0.0072 - val_loss: 2.1565e-04 - val_mae: 0.0169\n",
      "Epoch 85/500\n",
      "184/184 [==============================] - 2s 11ms/step - loss: 5.1200e-05 - mae: 0.0071 - val_loss: 2.2712e-04 - val_mae: 0.0175\n",
      "Epoch 86/500\n",
      "184/184 [==============================] - 3s 15ms/step - loss: 5.0763e-05 - mae: 0.0071 - val_loss: 2.4199e-04 - val_mae: 0.0183\n",
      "Epoch 87/500\n",
      "184/184 [==============================] - 2s 13ms/step - loss: 5.0342e-05 - mae: 0.0071 - val_loss: 2.6050e-04 - val_mae: 0.0193\n",
      "Epoch 88/500\n",
      "184/184 [==============================] - 2s 11ms/step - loss: 4.9938e-05 - mae: 0.0070 - val_loss: 2.8284e-04 - val_mae: 0.0204\n",
      "Epoch 89/500\n",
      "184/184 [==============================] - 2s 10ms/step - loss: 4.9552e-05 - mae: 0.0070 - val_loss: 3.0888e-04 - val_mae: 0.0217\n",
      "Epoch 90/500\n",
      "184/184 [==============================] - 2s 12ms/step - loss: 4.9179e-05 - mae: 0.0070 - val_loss: 3.3898e-04 - val_mae: 0.0230\n",
      "Epoch 91/500\n",
      "184/184 [==============================] - 2s 11ms/step - loss: 4.8825e-05 - mae: 0.0069 - val_loss: 3.7211e-04 - val_mae: 0.0243\n",
      "Epoch 92/500\n",
      "184/184 [==============================] - 2s 10ms/step - loss: 4.8476e-05 - mae: 0.0069 - val_loss: 4.0988e-04 - val_mae: 0.0257\n",
      "Epoch 93/500\n",
      "184/184 [==============================] - 2s 11ms/step - loss: 4.8159e-05 - mae: 0.0069 - val_loss: 4.4677e-04 - val_mae: 0.0270\n",
      "Epoch 94/500\n",
      "184/184 [==============================] - 2s 10ms/step - loss: 4.7805e-05 - mae: 0.0068 - val_loss: 4.9687e-04 - val_mae: 0.0286\n",
      "Epoch 95/500\n",
      "184/184 [==============================] - 2s 12ms/step - loss: 4.7583e-05 - mae: 0.0068 - val_loss: 5.1417e-04 - val_mae: 0.0290\n",
      "Epoch 96/500\n",
      "184/184 [==============================] - 3s 14ms/step - loss: 4.7034e-05 - mae: 0.0068 - val_loss: 6.5440e-04 - val_mae: 0.0332\n",
      "Epoch 97/500\n",
      "184/184 [==============================] - 2s 10ms/step - loss: 4.7683e-05 - mae: 0.0068 - val_loss: 3.7070e-04 - val_mae: 0.0235\n",
      "Epoch 98/500\n",
      "184/184 [==============================] - 2s 10ms/step - loss: 4.5916e-05 - mae: 0.0066 - val_loss: 0.0014 - val_mae: 0.0500\n",
      "Epoch 99/500\n",
      "184/184 [==============================] - 3s 14ms/step - loss: 6.1354e-05 - mae: 0.0080 - val_loss: 1.5025e-04 - val_mae: 0.0124\n",
      "Epoch 100/500\n",
      "184/184 [==============================] - 2s 11ms/step - loss: 4.4376e-05 - mae: 0.0068 - val_loss: 9.6570e-05 - val_mae: 0.0100\n",
      "Epoch 101/500\n",
      "184/184 [==============================] - 2s 12ms/step - loss: 5.1577e-05 - mae: 0.0072 - val_loss: 8.5016e-05 - val_mae: 0.0091\n",
      "Epoch 102/500\n",
      "184/184 [==============================] - 3s 15ms/step - loss: 4.4480e-05 - mae: 0.0067 - val_loss: 1.5448e-04 - val_mae: 0.0140\n",
      "Epoch 103/500\n",
      "184/184 [==============================] - 2s 12ms/step - loss: 4.6030e-05 - mae: 0.0069 - val_loss: 1.8953e-04 - val_mae: 0.0161\n",
      "Epoch 104/500\n",
      "184/184 [==============================] - 2s 10ms/step - loss: 4.4319e-05 - mae: 0.0065 - val_loss: 7.9258e-04 - val_mae: 0.0377\n",
      "Epoch 105/500\n",
      "184/184 [==============================] - 2s 11ms/step - loss: 5.3095e-05 - mae: 0.0073 - val_loss: 9.1237e-05 - val_mae: 0.0098\n",
      "Epoch 106/500\n",
      "184/184 [==============================] - 3s 15ms/step - loss: 4.3582e-05 - mae: 0.0067 - val_loss: 1.2635e-04 - val_mae: 0.0122\n",
      "Epoch 107/500\n",
      "184/184 [==============================] - 2s 10ms/step - loss: 5.1333e-05 - mae: 0.0072 - val_loss: 8.5686e-05 - val_mae: 0.0094\n",
      "Epoch 108/500\n",
      "184/184 [==============================] - 2s 10ms/step - loss: 4.1904e-05 - mae: 0.0064 - val_loss: 4.0427e-04 - val_mae: 0.0258\n",
      "Epoch 109/500\n",
      "184/184 [==============================] - 2s 12ms/step - loss: 5.2362e-05 - mae: 0.0074 - val_loss: 1.1425e-04 - val_mae: 0.0121\n",
      "Epoch 110/500\n",
      "184/184 [==============================] - 2s 11ms/step - loss: 4.2110e-05 - mae: 0.0066 - val_loss: 1.3001e-04 - val_mae: 0.0125\n",
      "Epoch 111/500\n",
      "184/184 [==============================] - 2s 11ms/step - loss: 4.8545e-05 - mae: 0.0071 - val_loss: 9.8533e-05 - val_mae: 0.0104\n",
      "Epoch 112/500\n",
      "184/184 [==============================] - 2s 10ms/step - loss: 4.1146e-05 - mae: 0.0063 - val_loss: 4.2447e-04 - val_mae: 0.0264\n",
      "Epoch 113/500\n",
      "184/184 [==============================] - 2s 11ms/step - loss: 5.3358e-05 - mae: 0.0075 - val_loss: 1.0705e-04 - val_mae: 0.0115\n",
      "Epoch 114/500\n",
      "184/184 [==============================] - 2s 12ms/step - loss: 4.1845e-05 - mae: 0.0066 - val_loss: 1.1859e-04 - val_mae: 0.0118\n",
      "Epoch 115/500\n",
      "184/184 [==============================] - 3s 15ms/step - loss: 4.5974e-05 - mae: 0.0069 - val_loss: 1.0941e-04 - val_mae: 0.0111\n",
      "Epoch 116/500\n",
      "184/184 [==============================] - 2s 13ms/step - loss: 4.0750e-05 - mae: 0.0063 - val_loss: 2.7326e-04 - val_mae: 0.0202\n",
      "Epoch 117/500\n",
      "184/184 [==============================] - 2s 10ms/step - loss: 4.7950e-05 - mae: 0.0070 - val_loss: 2.0810e-04 - val_mae: 0.0172\n",
      "Epoch 118/500\n",
      "184/184 [==============================] - 2s 12ms/step - loss: 4.1446e-05 - mae: 0.0065 - val_loss: 1.5432e-04 - val_mae: 0.0140\n",
      "Epoch 119/500\n",
      "184/184 [==============================] - 3s 14ms/step - loss: 4.8971e-05 - mae: 0.0071 - val_loss: 1.5252e-04 - val_mae: 0.0135\n",
      "Epoch 120/500\n",
      "184/184 [==============================] - 2s 10ms/step - loss: 3.9238e-05 - mae: 0.0061 - val_loss: 2.6165e-04 - val_mae: 0.0194\n",
      "Epoch 121/500\n",
      "184/184 [==============================] - 2s 10ms/step - loss: 4.9671e-05 - mae: 0.0072 - val_loss: 1.7727e-04 - val_mae: 0.0154\n",
      "Epoch 122/500\n",
      "184/184 [==============================] - 2s 10ms/step - loss: 4.0376e-05 - mae: 0.0064 - val_loss: 1.4272e-04 - val_mae: 0.0132\n",
      "Epoch 123/500\n",
      "184/184 [==============================] - 2s 12ms/step - loss: 4.5154e-05 - mae: 0.0068 - val_loss: 1.3876e-04 - val_mae: 0.0126\n",
      "Epoch 124/500\n",
      "184/184 [==============================] - 2s 10ms/step - loss: 3.9203e-05 - mae: 0.0061 - val_loss: 3.3149e-04 - val_mae: 0.0225\n",
      "Epoch 125/500\n",
      "184/184 [==============================] - 2s 10ms/step - loss: 5.0781e-05 - mae: 0.0073 - val_loss: 1.3229e-04 - val_mae: 0.0130\n",
      "Epoch 126/500\n",
      "184/184 [==============================] - 2s 10ms/step - loss: 4.0691e-05 - mae: 0.0065 - val_loss: 1.3927e-04 - val_mae: 0.0127\n",
      "Epoch 127/500\n",
      "184/184 [==============================] - 2s 10ms/step - loss: 4.3107e-05 - mae: 0.0066 - val_loss: 1.4223e-04 - val_mae: 0.0128\n",
      "Epoch 128/500\n",
      "184/184 [==============================] - 2s 12ms/step - loss: 3.8695e-05 - mae: 0.0062 - val_loss: 1.8352e-04 - val_mae: 0.0157\n",
      "Epoch 129/500\n",
      "184/184 [==============================] - 3s 14ms/step - loss: 4.4042e-05 - mae: 0.0067 - val_loss: 2.6584e-04 - val_mae: 0.0193\n",
      "Epoch 130/500\n",
      "184/184 [==============================] - 2s 11ms/step - loss: 3.9895e-05 - mae: 0.0064 - val_loss: 1.6934e-04 - val_mae: 0.0149\n",
      "Epoch 131/500\n",
      "184/184 [==============================] - 2s 12ms/step - loss: 4.7459e-05 - mae: 0.0070 - val_loss: 2.0352e-04 - val_mae: 0.0161\n",
      "Epoch 132/500\n",
      "184/184 [==============================] - 2s 13ms/step - loss: 3.7810e-05 - mae: 0.0061 - val_loss: 1.5641e-04 - val_mae: 0.0142\n",
      "Epoch 133/500\n",
      "184/184 [==============================] - 2s 11ms/step - loss: 4.3879e-05 - mae: 0.0067 - val_loss: 2.1586e-04 - val_mae: 0.0165\n",
      "Epoch 134/500\n",
      "184/184 [==============================] - 2s 11ms/step - loss: 3.8132e-05 - mae: 0.0061 - val_loss: 2.0456e-04 - val_mae: 0.0167\n",
      "Epoch 135/500\n",
      "184/184 [==============================] - 2s 11ms/step - loss: 4.7230e-05 - mae: 0.0071 - val_loss: 1.8380e-04 - val_mae: 0.0155\n",
      "Epoch 136/500\n",
      "184/184 [==============================] - 2s 12ms/step - loss: 3.8789e-05 - mae: 0.0063 - val_loss: 1.4945e-04 - val_mae: 0.0134\n",
      "Epoch 137/500\n",
      "184/184 [==============================] - 2s 10ms/step - loss: 4.1390e-05 - mae: 0.0065 - val_loss: 1.5477e-04 - val_mae: 0.0134\n",
      "Epoch 138/500\n",
      "184/184 [==============================] - 2s 11ms/step - loss: 3.7424e-05 - mae: 0.0060 - val_loss: 2.6456e-04 - val_mae: 0.0197\n",
      "Epoch 139/500\n",
      "184/184 [==============================] - 2s 11ms/step - loss: 4.7577e-05 - mae: 0.0070 - val_loss: 1.4044e-04 - val_mae: 0.0134\n",
      "Epoch 140/500\n",
      "184/184 [==============================] - 2s 10ms/step - loss: 3.9797e-05 - mae: 0.0064 - val_loss: 1.4277e-04 - val_mae: 0.0129\n",
      "Epoch 141/500\n",
      "184/184 [==============================] - 2s 12ms/step - loss: 4.0455e-05 - mae: 0.0064 - val_loss: 1.5211e-04 - val_mae: 0.0133\n",
      "Epoch 142/500\n",
      "184/184 [==============================] - 2s 13ms/step - loss: 3.6712e-05 - mae: 0.0059 - val_loss: 1.4427e-04 - val_mae: 0.0135\n",
      "Epoch 143/500\n",
      "184/184 [==============================] - 3s 15ms/step - loss: 4.1075e-05 - mae: 0.0064 - val_loss: 2.3352e-04 - val_mae: 0.0177\n",
      "Epoch 144/500\n",
      "184/184 [==============================] - 2s 12ms/step - loss: 3.8337e-05 - mae: 0.0062 - val_loss: 1.6886e-04 - val_mae: 0.0149\n",
      "Epoch 145/500\n",
      "184/184 [==============================] - 2s 11ms/step - loss: 4.5554e-05 - mae: 0.0069 - val_loss: 1.7671e-04 - val_mae: 0.0151\n",
      "Epoch 146/500\n",
      "184/184 [==============================] - 2s 12ms/step - loss: 3.7735e-05 - mae: 0.0062 - val_loss: 1.3906e-04 - val_mae: 0.0129\n",
      "Epoch 147/500\n",
      "184/184 [==============================] - 2s 10ms/step - loss: 3.9844e-05 - mae: 0.0064 - val_loss: 1.4622e-04 - val_mae: 0.0130\n",
      "Epoch 148/500\n",
      "184/184 [==============================] - 2s 11ms/step - loss: 3.6726e-05 - mae: 0.0059 - val_loss: 2.4419e-04 - val_mae: 0.0188\n",
      "Epoch 149/500\n",
      "184/184 [==============================] - 2s 10ms/step - loss: 4.6622e-05 - mae: 0.0069 - val_loss: 1.2188e-04 - val_mae: 0.0123\n",
      "Epoch 150/500\n",
      "184/184 [==============================] - 3s 14ms/step - loss: 3.9390e-05 - mae: 0.0064 - val_loss: 1.3218e-04 - val_mae: 0.0124\n",
      "Epoch 151/500\n",
      "184/184 [==============================] - 2s 10ms/step - loss: 3.8621e-05 - mae: 0.0063 - val_loss: 1.3775e-04 - val_mae: 0.0126\n"
     ]
    },
    {
     "data": {
      "text/plain": [
       "<keras.callbacks.History at 0x7fa11806d290>"
      ]
     },
     "execution_count": 7,
     "metadata": {},
     "output_type": "execute_result"
    }
   ],
   "source": [
    "\n",
    "keras.backend.clear_session()\n",
    "tf.random.set_seed(42)\n",
    "np.random.seed(42)\n",
    "\n",
    "\n",
    "window_size = 30\n",
    "train_set = sequential_window_dataset(normalized_x_train, window_size)\n",
    "valid_set = sequential_window_dataset(normalized_x_valid, window_size)\n",
    "\n",
    "\n",
    "model = keras.models.Sequential([\n",
    "  keras.layers.LSTM(100, return_sequences=True, stateful=True,\n",
    "                         batch_input_shape=[1, None, 1]),\n",
    "  keras.layers.LSTM(100, return_sequences=True, stateful=True),\n",
    "  keras.layers.Dense(1),\n",
    "])\n",
    "\n",
    "\n",
    "optimizer = keras.optimizers.Nadam(lr=1e-4)\n",
    "\n",
    "\n",
    "model.compile(loss=keras.losses.Huber(),\n",
    "              optimizer=optimizer,\n",
    "              metrics=[\"mae\"])\n",
    "\n",
    "\n",
    "reset_states = ResetStatesCallback()\n",
    "\n",
    "\n",
    "model_checkpoint = keras.callbacks.ModelCheckpoint(\n",
    "    \"my_checkpoint\", save_best_only=True)\n",
    "\n",
    "early_stopping = keras.callbacks.EarlyStopping(patience=50)\n",
    "\n",
    "\n",
    "model.fit(train_set, epochs=500,\n",
    "          validation_data=valid_set,\n",
    "          callbacks=[early_stopping, model_checkpoint, reset_states])"
   ]
  },
  {
   "cell_type": "code",
   "execution_count": 8,
   "id": "8b708252",
   "metadata": {
    "execution": {
     "iopub.execute_input": "2022-07-01T11:01:41.892832Z",
     "iopub.status.busy": "2022-07-01T11:01:41.891775Z",
     "iopub.status.idle": "2022-07-01T11:01:49.895428Z",
     "shell.execute_reply": "2022-07-01T11:01:49.894532Z",
     "shell.execute_reply.started": "2022-07-01T10:14:13.996521Z"
    },
    "papermill": {
     "duration": 10.310374,
     "end_time": "2022-07-01T11:01:49.895704",
     "exception": false,
     "start_time": "2022-07-01T11:01:39.585330",
     "status": "completed"
    },
    "tags": []
   },
   "outputs": [],
   "source": [
    "\n",
    "model = keras.models.load_model(\"my_checkpoint\")"
   ]
  },
  {
   "cell_type": "code",
   "execution_count": 9,
   "id": "af7c084d",
   "metadata": {
    "execution": {
     "iopub.execute_input": "2022-07-01T11:01:55.530028Z",
     "iopub.status.busy": "2022-07-01T11:01:55.528946Z",
     "iopub.status.idle": "2022-07-01T11:01:56.300812Z",
     "shell.execute_reply": "2022-07-01T11:01:56.300185Z",
     "shell.execute_reply.started": "2022-07-01T10:14:18.291313Z"
    },
    "papermill": {
     "duration": 4.108623,
     "end_time": "2022-07-01T11:01:56.300998",
     "exception": false,
     "start_time": "2022-07-01T11:01:52.192375",
     "status": "completed"
    },
    "tags": []
   },
   "outputs": [
    {
     "data": {
      "text/plain": [
       "(501,)"
      ]
     },
     "execution_count": 9,
     "metadata": {},
     "output_type": "execute_result"
    }
   ],
   "source": [
    "rnn_forecast = model.predict(normalized_x_test[np.newaxis,:])\n",
    "rnn_forecast = rnn_forecast.flatten()\n",
    "rnn_unscaled_forecast = x_train_scaler.inverse_transform(rnn_forecast.reshape(-1,1)).flatten()\n",
    "rnn_unscaled_forecast.shape"
   ]
  },
  {
   "cell_type": "code",
   "execution_count": 10,
   "id": "dd32b7f5",
   "metadata": {
    "execution": {
     "iopub.execute_input": "2022-07-01T11:02:00.930632Z",
     "iopub.status.busy": "2022-07-01T11:02:00.929578Z",
     "iopub.status.idle": "2022-07-01T11:02:01.189554Z",
     "shell.execute_reply": "2022-07-01T11:02:01.190328Z",
     "shell.execute_reply.started": "2022-07-01T10:14:18.885343Z"
    },
    "papermill": {
     "duration": 2.58824,
     "end_time": "2022-07-01T11:02:01.190501",
     "exception": false,
     "start_time": "2022-07-01T11:01:58.602261",
     "status": "completed"
    },
    "tags": []
   },
   "outputs": [
    {
     "data": {
      "image/png": "[encoded data removed]",
      "text/plain": [
       "<Figure size 720x432 with 1 Axes>"
      ]
     },
     "metadata": {
      "needs_background": "light"
     },
     "output_type": "display_data"
    },
    {
     "data": {
      "text/plain": [
       "1.982235"
      ]
     },
     "execution_count": 10,
     "metadata": {},
     "output_type": "execute_result"
    }
   ],
   "source": [
    "plt.figure(figsize=(10,6))\n",
    "\n",
    "plt.ylabel('Dollars $')\n",
    "plt.xlabel('Timestep in Days')\n",
    "plt.title(f'LSTM {window_size} Forecast')\n",
    "plot_series(x_test.index, x_test, label=\"Actual\")\n",
    "plot_series(x_test.index, rnn_unscaled_forecast, label=\"Forecast\")\n",
    "plt.show()\n",
    "keras.metrics.mean_absolute_error(x_test, rnn_unscaled_forecast).numpy()"
   ]
  },
  {
   "cell_type": "code",
   "execution_count": null,
   "id": "c97343d7",
   "metadata": {
    "papermill": {
     "duration": 2.60751,
     "end_time": "2022-07-01T11:02:06.107450",
     "exception": false,
     "start_time": "2022-07-01T11:02:03.499940",
     "status": "completed"
    },
    "tags": []
   },
   "outputs": [],
   "source": []
  }
 ],
 "metadata": {
  "kernelspec": {
   "display_name": "Python 3",
   "language": "python",
   "name": "python3"
  },
  "language_info": {
   "codemirror_mode": {
    "name": "ipython",
    "version": 3
   },
   "file_extension": ".py",
   "mimetype": "text/x-python",
   "name": "python",
   "nbconvert_exporter": "python",
   "pygments_lexer": "ipython3",
   "version": "3.7.12"
  },
  "papermill": {
   "default_parameters": {},
   "duration": 1469.119538,
   "end_time": "2022-07-01T11:02:11.534164",
   "environment_variables": {},
   "exception": null,
   "input_path": "__notebook__.ipynb",
   "output_path": "__notebook__.ipynb",
   "parameters": {},
   "start_time": "2022-07-01T10:37:42.414626",
   "version": "2.3.3"
  }
 },
 "nbformat": 4,
 "nbformat_minor": 5
}
